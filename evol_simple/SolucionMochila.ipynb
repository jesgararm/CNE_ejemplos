{
 "cells": [
  {
   "cell_type": "markdown",
   "metadata": {},
   "source": [
    "# Problema de la Mochila\n",
    "\n",
    "A continuación se muestran los diferentes pasos de la solución al Problema de La Mochila empleando la librería [DEAP](https://github.com/DEAP/deap) de Python"
   ]
  },
  {
   "cell_type": "markdown",
   "metadata": {},
   "source": [
    "## The Knapsack Problem\n",
    "\n",
    "The following are the different steps in the solution to the Knapsack Problem using the Python [DEAP](https://github.com/DEAP/deap) library"
   ]
  },
  {
   "cell_type": "markdown",
   "metadata": {},
   "source": [
    "## Descripcion del problema\n",
    "Se puede encontrar una descripción completa del problema de la mochila en el siguiente [enlace](https://es.wikipedia.org/wiki/Problema_de_la_mochila)."
   ]
  },
  {
   "cell_type": "markdown",
   "metadata": {},
   "source": [
    "\n",
    "### Description of the problem\n",
    "A full description of the backpack problem can be found at the following [link](https://en.wikipedia.org/wiki/Knapsack_problem)."
   ]
  },
  {
   "cell_type": "code",
   "execution_count": 1,
   "metadata": {},
   "outputs": [],
   "source": [
    "import random\n",
    "import numpy as np\n",
    "\n",
    "import matplotlib.pyplot as plt\n",
    "\n",
    "from deap import base, creator\n",
    "from deap import tools\n",
    "from deap import algorithms"
   ]
  },
  {
   "cell_type": "markdown",
   "metadata": {},
   "source": [
    "## Datos del problema\n",
    "Por simplificación, aquí se incluyen ya los vectores que contienen los datos del problema. En muchos casos, es probable que tengamos que extraerlos de un fichero externo."
   ]
  },
  {
   "cell_type": "markdown",
   "metadata": {},
   "source": [
    "\n",
    "### Problem data\n",
    "For simplicity, the vectors containing the problem data are already included here. In many cases, we will probably have to extract them from an external file."
   ]
  },
  {
   "cell_type": "code",
   "execution_count": 2,
   "metadata": {},
   "outputs": [],
   "source": [
    "#Trabajamos con 5 objetos\n",
    "values = [10,200,50,120,200] # valor de cada objeto\n",
    "weights = [45,80,25,15,75] # peso de cada objeto\n",
    "knapsackMax = 200 # peso maximo que se puede cargar en la mochila"
   ]
  },
  {
   "cell_type": "markdown",
   "metadata": {},
   "source": [
    "## Configuración de la Solución"
   ]
  },
  {
   "cell_type": "markdown",
   "metadata": {},
   "source": [
    "### Estructuras de datos de configuración\n",
    "\n",
    "En primer lugar, se crea el objeto donde iremos guardando las diferentes configuraciones"
   ]
  },
  {
   "cell_type": "markdown",
   "metadata": {},
   "source": [
    "### Configuration data structures\n",
    "\n",
    "First of all, the object where the different configurations will be stored is created."
   ]
  },
  {
   "cell_type": "code",
   "execution_count": 3,
   "metadata": {},
   "outputs": [],
   "source": [
    "toolbox = base.Toolbox()"
   ]
  },
  {
   "cell_type": "markdown",
   "metadata": {},
   "source": [
    "### Configuración de los Individuos\n",
    "\n",
    "Esta configuración dependerá del problema. Queda a decisión del programador la definición de cada individuo.\n",
    "\n",
    "1. En primer lugar Se configura el fitness que se va a emplear en los individuos  \n",
    "En este caso se configura para:  \n",
    "    a.buscar un único objetivo: es una tupla de solo un numero  \n",
    "    b.maximizar ese objetivo (se multiplica por un positivo)  \n",
    "    \n",
    "2. Se configura el individuo para que utilice la descripción anterior de fitness dentro de los individuos"
   ]
  },
  {
   "cell_type": "markdown",
   "metadata": {},
   "source": [
    "#### Individuals configuration\n",
    "\n",
    "This configuration will depend on the problem. It is up to the programmer to define each individual.\n",
    "\n",
    "1. First of all, the fitness to be used for the individuals is configured.  \n",
    "In this case it is configured to:  \n",
    "    a.search for a single objective: it is a tuple of only one number.  \n",
    "    b.maximise that objective (it is multiplied by a positive).  \n",
    "    \n",
    "2. The individual is configured to use the above description of fitness within each individual."
   ]
  },
  {
   "cell_type": "code",
   "execution_count": 4,
   "metadata": {},
   "outputs": [],
   "source": [
    "creator.create(\"FitnessMax\", base.Fitness, weights=(1.0,))\n",
    "creator.create(\"Individual\", list, fitness=creator.FitnessMax)"
   ]
  },
  {
   "cell_type": "markdown",
   "metadata": {},
   "source": [
    "1. Se configura el atributo (\"attribute\") con el que se generará cada gen del individuo\n",
    "2. El individuo se crea como una lista (o repeticion) de \"attribute\", definido justo antes\n",
    "3. La población se crea como una lista de \"individual\", definido justo antes"
   ]
  },
  {
   "cell_type": "markdown",
   "metadata": {},
   "source": [
    "1. The attribute with which each gene of the individual will be generated is configured.\n",
    "2. The individual is created as a list (or repetition) of the \"attribute\", defined just before.\n",
    "3. The population is created as a list of \"individual\", defined just before."
   ]
  },
  {
   "cell_type": "code",
   "execution_count": 5,
   "metadata": {},
   "outputs": [],
   "source": [
    "# Ejemplo de Genotipo cuyos genes son de tipo booleano '''\n",
    "toolbox.register(\"attribute\", random.randint, 0, 1)\n",
    "#Tendrá una longitud de 5 atributos \n",
    "toolbox.register(\"individual\", tools.initRepeat, creator.Individual, toolbox.attribute, n=5)\n",
    "toolbox.register(\"population\", tools.initRepeat, list, toolbox.individual) "
   ]
  },
  {
   "cell_type": "markdown",
   "metadata": {},
   "source": [
    "Se comprueba que está correctamente definido. \n",
    "No es necesario incluir esta celda en el experimento final."
   ]
  },
  {
   "cell_type": "markdown",
   "metadata": {},
   "source": [
    "We check that it is correctly defined. \n",
    "It is not necessary to include this cell in the final experiment."
   ]
  },
  {
   "cell_type": "code",
   "execution_count": 6,
   "metadata": {},
   "outputs": [
    {
     "name": "stdout",
     "output_type": "stream",
     "text": [
      "Individuo:  [0, 0, 0, 1, 1]\n",
      "Poblacion:  [[0, 1, 1, 1, 1], [0, 1, 1, 1, 0], [1, 1, 1, 1, 1], [1, 0, 1, 1, 0], [0, 1, 0, 0, 1], [1, 1, 0, 1, 0], [1, 1, 1, 1, 1], [0, 0, 1, 0, 1], [0, 1, 0, 1, 1], [0, 1, 1, 1, 0]]\n"
     ]
    }
   ],
   "source": [
    "# Se genera un único individuo\n",
    "# A single individual is generated\n",
    "ind = toolbox.individual()\n",
    "print(\"Individuo: \",ind)\n",
    "    \n",
    "# Se inicializa la poblacion. Tendrá un total de 10 individuos. Se genera como una lista de individuos.\n",
    "# The population is initialised. It will have a total of 10 individuals. It is generated as a list of individuals.\n",
    "pop = toolbox.population(n=10)\n",
    "\n",
    "# Se imprime la población: 10 individuos de 5 genes cada uno\n",
    "# The population is printed: 10 individuals of 5 genes each\n",
    "print(\"Poblacion: \",pop)"
   ]
  },
  {
   "cell_type": "markdown",
   "metadata": {},
   "source": [
    "## Evaluación de la Adaptación\n",
    "\n",
    "Para poder ejecutar el algoritmo genético, tendremos que implementar una función que, dado un individuo, nos indique (de manera numérica) cómo de adaptado está a la solución que estamos buscando."
   ]
  },
  {
   "cell_type": "markdown",
   "metadata": {
    "collapsed": true
   },
   "source": [
    "### Fitness Assesment\n",
    "\n",
    "In order to execute the genetic algorithm, we will have to implement a function that, given an individual, tells us (numerically) how adapted it is to the solution we are looking for."
   ]
  },
  {
   "cell_type": "code",
   "execution_count": 7,
   "metadata": {},
   "outputs": [],
   "source": [
    "def evalKnapsack(individual):\n",
    "\n",
    "    value = 0.0\n",
    "    weight = 0.0\n",
    "    \n",
    "    # Producto vectorial de un individuo (boolean) por los datos (float)\n",
    "    # Multiplica cada bit del individuo por el valor correspondiente en el vector de datos\n",
    "    # y finalmente hace la suma de todos\n",
    "    value = np.dot(individual,values)\n",
    "    weight = np.dot(individual,weights) # Mismo cáculo para el vector de pesos\n",
    "\n",
    "#    print(\"value: \", value)\n",
    "#    print(\"weight: \", weight)\n",
    "\n",
    "    # Se penaliza en caso de que el peso de la mochila exceda el maximo\n",
    "    diff = knapsackMax - weight\n",
    "    if(diff < 0):\n",
    "         value = value + (diff * 10) # OJO: tened en cuenta que diff es negativo, por lo que en realidad está RESTANDO\n",
    "\n",
    "    return value, #OJO: La respuesta tiene que ser una tupla, aunque solo consideremos un valor"
   ]
  },
  {
   "cell_type": "markdown",
   "metadata": {},
   "source": [
    "A continuación se incluye un apartado que comprueba que la función de evaluación definida es válida. Este código NO es necesario para la solución final, sino solo como demostración de la anterior."
   ]
  },
  {
   "cell_type": "markdown",
   "metadata": {},
   "source": [
    "Below is a section that checks that the defined evaluation function is valid. This code is NOT necessary for the final solution, but only as a demonstration of the previous one."
   ]
  },
  {
   "cell_type": "code",
   "execution_count": 8,
   "metadata": {},
   "outputs": [
    {
     "name": "stdout",
     "output_type": "stream",
     "text": [
      "\n",
      "Individuo ANTES de evaluar\n",
      "[0, 0, 0, 1, 0]\n",
      "False\n",
      "\n",
      "Individuo TRAS evaluar\n",
      "[0, 0, 0, 1, 0]\n",
      "True\n",
      "(120.0,)\n"
     ]
    }
   ],
   "source": [
    "# Se instancia un individuo (aleatorio)\n",
    "ind = toolbox.individual()\n",
    " \n",
    "'''\n",
    "Se aconseja al alumno probar con varios individuos en diferentes condiciones de optimalidad para comprobar si la función está bien definida en todo el espacio de búsqueda.    \n",
    "'''\n",
    "\n",
    "'''The student is advised to test with several individuals under different optimality conditions to check if the function is well defined over the whole search space.  '''\n",
    "\n",
    "# Se imprime el individuo ANTES de evaluar\n",
    "print (\"\\nIndividuo ANTES de evaluar\")\n",
    "print (ind)\n",
    "print (ind.fitness.valid)  # False\n",
    "\n",
    "ind.fitness.values = evalKnapsack(ind)\n",
    "\n",
    "# Se imprime el individuo DESPUES de evaluar\n",
    "print (\"\\nIndividuo TRAS evaluar\")\n",
    "print (ind)\n",
    "print (ind.fitness.valid) # True\n",
    "print (ind.fitness)"
   ]
  },
  {
   "cell_type": "markdown",
   "metadata": {},
   "source": [
    "## Configuración del algoritmo genético\n",
    "\n",
    "Ya hemos configurado todas las partes diréctamente relacionadas con el problema a resolver. A continuación vamos a configurar cómo queremos que la librería DEAP realice la evolución de los individuos que representan soluciones hasta encontrar la más adecuada.\n",
    "Esta parte consiste en seleccionar que procedimientos queremos emplear en cada una de las partes del ciclo evolutivo."
   ]
  },
  {
   "cell_type": "markdown",
   "metadata": {},
   "source": [
    "### Setting of the genetic algorithm\n",
    "\n",
    "We have already configured all the parts directly related to the problem to be solved. Next we are going to configure how we want the DEAP library to carry out the evolution of the individuals that represent solutions until we find the most suitable one.\n",
    "This part consists of selecting which procedures we want to use in each of the parts of the evolutionary cycle."
   ]
  },
  {
   "cell_type": "code",
   "execution_count": 9,
   "metadata": {},
   "outputs": [],
   "source": [
    "# Se seleccionan procedimiento standard para cruce, mutacion y seleccion. Se recomienda repasar el material visto en teoría.\n",
    "toolbox.register(\"select\", tools.selTournament, tournsize=3) # seleccion\n",
    "toolbox.register(\"mate\", tools.cxOnePoint) # cruce\n",
    "toolbox.register(\"mutate\", tools.mutFlipBit, indpb=0.2) # mutacion\n",
    "\n",
    "# Se define cómo se evaluará cada individuo\n",
    "# En este caso, se hará uso de la función de evaluación que se ha definido en la sección anterior\n",
    "toolbox.register(\"evaluate\", evalKnapsack)"
   ]
  },
  {
   "cell_type": "markdown",
   "metadata": {},
   "source": [
    "## Configuración de las estadísticas\n",
    "\n",
    "Si deseamos obtener algún valor para ayudarnos a comprender cómo avanza el algoritmo, debemos hacerlo en el objeto del tipo Statistics. Éste calcula resúmenes sobre la función de adaptación que contienen el conjunto de los individuos de la población."
   ]
  },
  {
   "cell_type": "markdown",
   "metadata": {},
   "source": [
    "### Statistics configuration\n",
    "\n",
    "If we wish to obtain some value to help us understand how the algorithm is progressing, we must do so in the Statistics object. This calculates summaries of the adaptation function containing the set of individuals in the population."
   ]
  },
  {
   "cell_type": "code",
   "execution_count": 10,
   "metadata": {},
   "outputs": [],
   "source": [
    "# Se configura que estadísticas se quieren analizar \n",
    "stats = tools.Statistics(lambda ind: ind.fitness.values) \n",
    "stats.register(\"avg\", np.mean) \n",
    "stats.register(\"std\", np.std) \n",
    "stats.register(\"min\", np.min) \n",
    "stats.register(\"max\", np.max) "
   ]
  },
  {
   "cell_type": "markdown",
   "metadata": {},
   "source": [
    "## Ejecución del Algoritmo\n",
    "\n",
    "Se ejecuta el ciclo evolutivo durante el número de generaciones determindo.\n",
    "Se debe tener en cuenta que, al ser un ejemplo, el problema es muy simple y no es necesario iterar durante mucho tiempo. En los casos reales, tanto el tamaño de la población, como el número de generaciones probablemente deban ser mucho mayores."
   ]
  },
  {
   "cell_type": "markdown",
   "metadata": {},
   "source": [
    "### Execution of the Algorithm\n",
    "\n",
    "The evolutionary cycle is executed for the determined number of generations.\n",
    "Note that, being an example, the problem is very simple and it is not necessary to iterate for a long time. In real cases, both the population size and the number of generations probably need to be much larger."
   ]
  },
  {
   "cell_type": "code",
   "execution_count": 11,
   "metadata": {},
   "outputs": [
    {
     "name": "stdout",
     "output_type": "stream",
     "text": [
      "El resultado de la evolución es: \n",
      "gen\tnevals\tavg\tstd    \tmin\tmax\n",
      "0  \t10    \t267\t128.378\t10 \t520\n",
      "1  \t4     \t342\t109.891\t170\t520\n",
      "2  \t3     \t357\t100.305\t180\t520\n",
      "3  \t8     \t415\t70.1783\t330\t520\n",
      "4  \t6     \t453\t121    \t130\t520\n",
      "5  \t6     \t491\t73.2735\t320\t570\n",
      "6  \t8     \t530\t20     \t520\t570\n",
      "7  \t3     \t550\t24.4949\t520\t570\n",
      "8  \t7     \t565\t15     \t520\t570\n",
      "9  \t7     \t550\t60     \t370\t570\n",
      "10 \t6     \t550\t60     \t370\t570\n",
      "11 \t3     \t531\t117    \t180\t570\n",
      "12 \t6     \t518\t156    \t50 \t570\n",
      "13 \t5     \t550\t60     \t370\t570\n",
      "14 \t3     \t533\t95.5039\t250\t570\n",
      "15 \t4     \t553\t51     \t400\t570\n",
      "16 \t5     \t570\t0      \t570\t570\n",
      "17 \t4     \t513\t171    \t0  \t570\n",
      "18 \t10    \t570\t0      \t570\t570\n",
      "19 \t7     \t558\t36     \t450\t570\n",
      "20 \t6     \t457\t191.523\t0  \t570\n",
      "La mejor solucion encontrada es: \n",
      "[0, 1, 1, 1, 1]\n"
     ]
    }
   ],
   "source": [
    "# Se genera una población inicial. El tamaño será siempre de 10 individuos.\n",
    "# The population is initialised with 10 individuals.\n",
    "population = toolbox.population(n=10)\n",
    "\n",
    "# Se llama al algoritmo que permite la evolucion de las soluciones\n",
    "# The algorithm that allows the evolution of the solutions is called\n",
    "population, logbook = algorithms.eaSimple(population, toolbox, \n",
    "                                    cxpb=0.5, mutpb=0.2, # Probabilidades de cruce y mutacion\n",
    "                                    ngen=20, verbose=False, stats=stats) # Numero de generaciones a completar y estadisticas a recoger\n",
    "\n",
    "# Por cada generación, la estructura de logbook va almacenando un resumen de los avances del algoritmo.\n",
    "# For each generation, the logbook structure stores a summary of the algorithm's progress.\n",
    "print(\"El resultado de la evolución es: \")\n",
    "print(logbook)\n",
    "\n",
    "print(\"La mejor solucion encontrada es: \")\n",
    "print(tools.selBest(population,1)[0])"
   ]
  },
  {
   "cell_type": "markdown",
   "metadata": {},
   "source": [
    "## Representación de los resultados\n",
    "Por último, se pueden obtener gráficas empleando los datos de las estadísticas recogidas, para visualizarlos de forma más intuitiva."
   ]
  },
  {
   "cell_type": "markdown",
   "metadata": {},
   "source": [
    "### Representation of the results\n",
    "Finally, graphs can be obtained using the collected statistical data to visualise them in a more intuitive way."
   ]
  },
  {
   "cell_type": "code",
   "execution_count": 12,
   "metadata": {},
   "outputs": [
    {
     "data": {
      "text/plain": [
       "[]"
      ]
     },
     "execution_count": 12,
     "metadata": {},
     "output_type": "execute_result"
    },
    {
     "data": {
      "image/png": "[encoded data removed]",
      "text/plain": [
       "<Figure size 432x288 with 1 Axes>"
      ]
     },
     "metadata": {
      "needs_background": "light"
     },
     "output_type": "display_data"
    }
   ],
   "source": [
    "# Se recuperan los datos desde el log\n",
    "gen = logbook.select(\"gen\")\n",
    "avgs = logbook.select(\"avg\")\n",
    "    \n",
    "# Se establece una figura para dibujar\n",
    "fig = plt.figure()\n",
    "    \n",
    "# Se representa la media del valor de fitness por cada generación\n",
    "ax1 = plt.gca()\n",
    "line1 = ax1.plot(gen, avgs, \"r-\", label=\"Average Fitness\")    \n",
    "ax1.set_xlabel(\"Generation\")\n",
    "ax1.set_ylabel(\"Fitness\", color=\"b\")\n",
    "    \n",
    "''' Notad que se deberían representar mas cosas. Por ejemplo el maximo y el minimo de\n",
    "ese fitness se están recogiendo en las estadisticas, aunque en el ejemplo no se\n",
    "representen '''\n",
    "\n",
    "'''Note that additional information should be represented. For example, the maximum and minimum of that fitness are being collected in the statistics, although in the example they are not represented'''\n",
    "\n",
    "plt.plot()"
   ]
  },
  {
   "cell_type": "code",
   "execution_count": null,
   "metadata": {},
   "outputs": [],
   "source": []
  }
 ],
 "metadata": {
  "kernelspec": {
   "display_name": "Python 3.9.12 ('base')",
   "language": "python",
   "name": "python3"
  },
  "language_info": {
   "codemirror_mode": {
    "name": "ipython",
    "version": 3
   },
   "file_extension": ".py",
   "mimetype": "text/x-python",
   "name": "python",
   "nbconvert_exporter": "python",
   "pygments_lexer": "ipython3",
   "version": "3.9.12"
  },
  "vscode": {
   "interpreter": {
    "hash": "3ef2e7258956d4c4ca9f7d45655e0afacc3fe724d58d4e843bf4bc0c1d2d6da8"
   }
  }
 },
 "nbformat": 4,
 "nbformat_minor": 2
}
